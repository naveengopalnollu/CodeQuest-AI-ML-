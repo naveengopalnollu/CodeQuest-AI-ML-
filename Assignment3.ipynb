{
 "cells": [
  {
   "cell_type": "markdown",
   "metadata": {},
   "source": [
    "## Question 1"
   ]
  },
  {
   "cell_type": "code",
   "execution_count": 1,
   "metadata": {},
   "outputs": [
    {
     "name": "stdout",
     "output_type": "stream",
     "text": [
      "Addition [ 6.5  8.5 10.5 12.5]\n",
      "Substraction [-4.5 -4.5 -4.5 -4.5]\n",
      "Multiplication [ 5.5 13.  22.5 34. ]\n",
      "Division [0.18181818 0.30769231 0.4        0.47058824]\n"
     ]
    }
   ],
   "source": [
    "import numpy as np\n",
    "x=np.array([1,2,3,4])\n",
    "y=np.array([5.5,6.5,7.5,8.5])\n",
    "print(f\"Addition {x+y}\")\n",
    "print(f\"Substraction {x-y}\")\n",
    "print(f\"Multiplication {x*y}\")\n",
    "print(f\"Division {x/y}\")"
   ]
  },
  {
   "cell_type": "markdown",
   "metadata": {},
   "source": [
    "## Question 2"
   ]
  },
  {
   "cell_type": "code",
   "execution_count": 13,
   "metadata": {},
   "outputs": [
    {
     "name": "stdout",
     "output_type": "stream",
     "text": [
      "Square root: [[1.         1.41421356]\n",
      " [1.73205081 2.        ]]\n",
      "Max column: [3 4]\n",
      "Min column: [1 2]\n",
      "Max row: [2 4]\n",
      "Min row: [1 3]\n",
      "Median : 2.5\n",
      "Standard Deviation:1.118033988749895\n",
      "Mean:2.5\n"
     ]
    }
   ],
   "source": [
    "x= np.array([[1,2],[3,4]])\n",
    "print(f\"Square root: {np.sqrt(x)}\")\n",
    "print(f\"Max column: {x.max(axis=0)}\")\n",
    "print(f\"Min column: {x.min(axis=0)}\")\n",
    "print(f\"Max row: {x.max(axis=1)}\")\n",
    "print(f\"Min row: {x.min(axis=1)}\")\n",
    "print(f\"Median : {np.median(x)}\")\n",
    "print(f\"Standard Deviation:{x.std()}\")\n",
    "print(f\"Mean:{x.mean()}\")"
   ]
  },
  {
   "cell_type": "code",
   "execution_count": null,
   "metadata": {},
   "outputs": [],
   "source": []
  }
 ],
 "metadata": {
  "kernelspec": {
   "display_name": "Python 3",
   "language": "python",
   "name": "python3"
  },
  "language_info": {
   "codemirror_mode": {
    "name": "ipython",
    "version": 3
   },
   "file_extension": ".py",
   "mimetype": "text/x-python",
   "name": "python",
   "nbconvert_exporter": "python",
   "pygments_lexer": "ipython3",
   "version": "3.7.6"
  }
 },
 "nbformat": 4,
 "nbformat_minor": 4
}
