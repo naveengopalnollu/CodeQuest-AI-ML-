{
 "cells": [
  {
   "cell_type": "markdown",
   "metadata": {},
   "source": [
    "## Question1"
   ]
  },
  {
   "cell_type": "code",
   "execution_count": 12,
   "metadata": {},
   "outputs": [
    {
     "name": "stdout",
     "output_type": "stream",
     "text": [
      "1 1\n",
      "Guess Correct\n"
     ]
    }
   ],
   "source": [
    "answer,guess=list(map(int,input().split()[:2]))\n",
    "if answer>guess*2:\n",
    "    print(\"Too Low\")\n",
    "elif answer*2<guess:\n",
    "    print(\"Too High\")\n",
    "elif answer>guess:\n",
    "    print(\"Low\")\n",
    "elif answer<guess:\n",
    "    print(\"High\")\n",
    "else:\n",
    "    print(\"Guess Correct\")"
   ]
  },
  {
   "cell_type": "markdown",
   "metadata": {},
   "source": [
    "## Question2"
   ]
  },
  {
   "cell_type": "code",
   "execution_count": 17,
   "metadata": {},
   "outputs": [
    {
     "name": "stdout",
     "output_type": "stream",
     "text": [
      "0\n",
      "5\n",
      "10\n",
      "15\n",
      "20\n",
      "25\n",
      "30\n"
     ]
    }
   ],
   "source": [
    "for i in range(31):\n",
    "    if i%5==0:\n",
    "        print(i)"
   ]
  },
  {
   "cell_type": "markdown",
   "metadata": {},
   "source": [
    "## Question 3"
   ]
  },
  {
   "cell_type": "code",
   "execution_count": 29,
   "metadata": {},
   "outputs": [
    {
     "name": "stdout",
     "output_type": "stream",
     "text": [
      "40\n",
      "result: 6\n"
     ]
    }
   ],
   "source": [
    "def nearest_square(limit):\n",
    "    limit = limit ** (0.5)\n",
    "    y = int (limit)\n",
    "    while y < limit :\n",
    "         y = y*y\n",
    "    return y\n",
    "number=map(int,input())\n",
    "neareset_square = nearest_square(36)\n",
    "print(\"result: {}\".format(neareset_square))\n",
    "    "
   ]
  }
 ],
 "metadata": {
  "kernelspec": {
   "display_name": "Python 3",
   "language": "python",
   "name": "python3"
  },
  "language_info": {
   "codemirror_mode": {
    "name": "ipython",
    "version": 3
   },
   "file_extension": ".py",
   "mimetype": "text/x-python",
   "name": "python",
   "nbconvert_exporter": "python",
   "pygments_lexer": "ipython3",
   "version": "3.7.6"
  }
 },
 "nbformat": 4,
 "nbformat_minor": 4
}
